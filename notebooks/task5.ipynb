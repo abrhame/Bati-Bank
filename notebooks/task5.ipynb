{
 "cells": [
  {
   "cell_type": "code",
   "execution_count": 16,
   "metadata": {},
   "outputs": [
    {
     "name": "stdout",
     "output_type": "stream",
     "text": [
      "Training set class distribution:\n",
      " Counter({0: 76529})\n",
      "Warning: Training data contains only one class.\n",
      "Consider applying class balancing techniques or gathering more data.\n"
     ]
    },
    {
     "name": "stderr",
     "output_type": "stream",
     "text": [
      "/home/abrham/Documents/kifiya/Bati-Bank/env/lib/python3.11/site-packages/sklearn/impute/_base.py:598: UserWarning: Skipping features without any observed values: ['WoE' 'WoE_Frequency_woe' 'WoE_Monetary_woe' 'WoE_Stability_woe']. At least one non-missing value is needed for imputation with strategy='mean'.\n",
      "  warnings.warn(\n"
     ]
    }
   ],
   "source": [
    "import pandas as pd\n",
    "from sklearn.model_selection import train_test_split\n",
    "from sklearn.linear_model import LogisticRegression\n",
    "from sklearn.ensemble import RandomForestClassifier\n",
    "from sklearn.metrics import accuracy_score, precision_score, recall_score, f1_score, roc_auc_score\n",
    "from sklearn.impute import SimpleImputer\n",
    "from collections import Counter\n",
    "\n",
    "# Load your processed data (adjust the path as necessary)\n",
    "df = pd.read_csv('processed_data.csv')\n",
    "\n",
    "# Step 1: Drop non-numeric and identifier columns\n",
    "columns_to_drop = ['TransactionId', 'BatchId', 'AccountId', 'SubscriptionId', \n",
    "                   'CustomerId', 'CurrencyCode', 'ProviderId', 'ProductId', \n",
    "                   'ProductCategory', 'ChannelId', 'TransactionStartTime']  # Dropping date column\n",
    "\n",
    "df_cleaned = df.drop(columns=columns_to_drop)\n",
    "\n",
    "# Step 2: Define features (X) and target (y)\n",
    "y = df_cleaned['User_Label']  # Target variable\n",
    "X = df_cleaned.drop(columns=['User_Label'])  # Features\n",
    "\n",
    "# Step 3: Handle missing values (if needed)\n",
    "imputer = SimpleImputer(strategy='mean')\n",
    "X_imputed = imputer.fit_transform(X)\n",
    "\n",
    "# Step 4: Split the data into training and testing sets using stratification\n",
    "X_train, X_test, y_train, y_test = train_test_split(X_imputed, y, test_size=0.2, random_state=42, stratify=y)\n",
    "\n",
    "# Step 5: Check the class distribution in the training set\n",
    "class_counts = Counter(y_train)\n",
    "print(\"Training set class distribution:\\n\", class_counts)\n",
    "\n",
    "# Ensure there are at least 2 classes in the training data\n",
    "if len(class_counts) < 2:\n",
    "    print(\"Warning: Training data contains only one class.\")\n",
    "    print(\"Consider applying class balancing techniques or gathering more data.\")\n",
    "else:\n",
    "    # Step 6: Train the models\n",
    "    # Logistic Regression\n",
    "    log_reg = LogisticRegression(max_iter=1000)\n",
    "    log_reg.fit(X_train, y_train)\n",
    "\n",
    "    # Random Forest\n",
    "    random_forest = RandomForestClassifier()\n",
    "    random_forest.fit(X_train, y_train)\n",
    "\n",
    "    # Step 7: Evaluate the models\n",
    "    # Evaluate Logistic Regression\n",
    "    y_pred_log_reg = log_reg.predict(X_test)\n",
    "    accuracy_log_reg = accuracy_score(y_test, y_pred_log_reg)\n",
    "    precision_log_reg = precision_score(y_test, y_pred_log_reg)\n",
    "    recall_log_reg = recall_score(y_test, y_pred_log_reg)\n",
    "    f1_log_reg = f1_score(y_test, y_pred_log_reg)\n",
    "    roc_auc_log_reg = roc_auc_score(y_test, y_pred_log_reg)\n",
    "\n",
    "    # Evaluate Random Forest\n",
    "    y_pred_rf = random_forest.predict(X_test)\n",
    "    accuracy_rf = accuracy_score(y_test, y_pred_rf)\n",
    "    precision_rf = precision_score(y_test, y_pred_rf)\n",
    "    recall_rf = recall_score(y_test, y_pred_rf)\n",
    "    f1_rf = f1_score(y_test, y_pred_rf)\n",
    "    roc_auc_rf = roc_auc_score(y_test, y_pred_rf)\n",
    "\n",
    "    # Print results\n",
    "    print(\"Logistic Regression Metrics:\")\n",
    "    print(f\"Accuracy: {accuracy_log_reg:.4f}, Precision: {precision_log_reg:.4f}, Recall: {recall_log_reg:.4f}, F1 Score: {f1_log_reg:.4f}, ROC AUC: {roc_auc_log_reg:.4f}\")\n",
    "    print(\"\\nRandom Forest Metrics:\")\n",
    "    print(f\"Accuracy: {accuracy_rf:.4f}, Precision: {precision_rf:.4f}, Recall: {recall_rf:.4f}, F1 Score: {f1_rf:.4f}, ROC AUC: {roc_auc_rf:.4f}\")\n"
   ]
  }
 ],
 "metadata": {
  "kernelspec": {
   "display_name": "env",
   "language": "python",
   "name": "python3"
  },
  "language_info": {
   "codemirror_mode": {
    "name": "ipython",
    "version": 3
   },
   "file_extension": ".py",
   "mimetype": "text/x-python",
   "name": "python",
   "nbconvert_exporter": "python",
   "pygments_lexer": "ipython3",
   "version": "3.11.4"
  }
 },
 "nbformat": 4,
 "nbformat_minor": 2
}
